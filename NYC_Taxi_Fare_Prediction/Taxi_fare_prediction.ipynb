{
  "cells": [
    {
      "metadata": {
        "_uuid": "8f2839f25d086af736a60e9eeb907d3b93b6e0e5",
        "_cell_guid": "b1076dfc-b9ad-4769-8c92-a6c4dae69d19",
        "trusted": true
      },
      "cell_type": "code",
      "source": "# This Python 3 environment comes with many helpful analytics libraries installed\n# It is defined by the kaggle/python docker image: https://github.com/kaggle/docker-python\n# For example, here's several helpful packages to load in \n\nimport numpy as np # linear algebra\nimport pandas as pd # data processing, CSV file I/O (e.g. pd.read_csv)\nimport sklearn\nimport seaborn as sns\nimport matplotlib.pyplot as plt\n# Input data files are available in the \"../input/\" directory.\n# For example, running this (by clicking run or pressing Shift+Enter) will list the files in the input directory\n\nimport os\nprint(os.listdir(\"../input\"))\n\n# Any results you write to the current directory are saved as output.",
      "execution_count": null,
      "outputs": []
    },
    {
      "metadata": {
        "_cell_guid": "79c7e3d0-c299-4dcb-8224-4455121ee9b0",
        "_uuid": "d629ff2d2480ee46fbb7e2d37f6b5fab8052498a",
        "trusted": true
      },
      "cell_type": "code",
      "source": "train_data=pd.read_csv(\"../input/train.csv\",nrows=7000000)\ntest_data=pd.read_csv(\"../input/test.csv\")\n\n",
      "execution_count": null,
      "outputs": []
    },
    {
      "metadata": {
        "_uuid": "a768f294d469a2c485bbb21727070cabf2bb84d8"
      },
      "cell_type": "markdown",
      "source": "PART 1 --> DATA CLEANSING & EXPLORATORY DATA ANALYSIS (EDA)\n\nWill perform the following activities\n\n* Shape of train and test sets\n* (http://)Check for NaNs and drop them (if any)\n* Check for outliers and drop them (if any)\n* Type conversion of relevant fields\n"
    },
    {
      "metadata": {
        "trusted": true,
        "_uuid": "461cdaae856ec4996b9b9c978da03ab24a67fae5"
      },
      "cell_type": "code",
      "source": "train_data.shape",
      "execution_count": null,
      "outputs": []
    },
    {
      "metadata": {
        "trusted": true,
        "_uuid": "cf06841f4eef9ff0653589d25dea1628bf1022bb"
      },
      "cell_type": "code",
      "source": "test_data.shape",
      "execution_count": null,
      "outputs": []
    },
    {
      "metadata": {
        "trusted": true,
        "_uuid": "9701e9571a409d30faf76e89653f87b7a2586ddd"
      },
      "cell_type": "code",
      "source": "train_data.describe()",
      "execution_count": null,
      "outputs": []
    },
    {
      "metadata": {
        "trusted": true,
        "_uuid": "c045acc3b61e781c886b8cae0a114fff6b8e9c5e"
      },
      "cell_type": "code",
      "source": "train_data.head()",
      "execution_count": null,
      "outputs": []
    },
    {
      "metadata": {
        "trusted": true,
        "_uuid": "464f872764bf621a883132b6d5ba76fccc3aa5cd"
      },
      "cell_type": "code",
      "source": "#check for missing values in train data\n\ntrain_data.isnull().sum().sort_values(ascending=False)",
      "execution_count": null,
      "outputs": []
    },
    {
      "metadata": {
        "trusted": true,
        "_uuid": "0e635ba42eecf2b07f4c89faa502d7d52359386f"
      },
      "cell_type": "code",
      "source": "#drop the missing values\n#train_data = train_data.dropna(train[train.isnull().any(1)].index, axis = 0)\ntrain_data = train_data.dropna()",
      "execution_count": null,
      "outputs": []
    },
    {
      "metadata": {
        "trusted": true,
        "_uuid": "c422edc50627835745048d01484f08bc8c46a6c3"
      },
      "cell_type": "code",
      "source": "train_data.shape",
      "execution_count": null,
      "outputs": []
    },
    {
      "metadata": {
        "trusted": true,
        "_uuid": "6a8b1757dc87960f263a58d78f4e236fecaa4c56"
      },
      "cell_type": "code",
      "source": "#check the target column\ntrain_data['fare_amount'].describe()\n\n# fare has negative values, no use of them",
      "execution_count": null,
      "outputs": []
    },
    {
      "metadata": {
        "trusted": true,
        "_uuid": "266dfbbb63391c7eb188bc55b8ab2c20197e3018"
      },
      "cell_type": "code",
      "source": "# fields have negative fare_amount values.\nfrom collections import Counter\nCounter(train_data['fare_amount']<0)",
      "execution_count": null,
      "outputs": []
    },
    {
      "metadata": {
        "trusted": true,
        "_uuid": "88a116585c28ae0a6cf9ae140a5adf8e3aacb3ed"
      },
      "cell_type": "code",
      "source": "train_data = train_data.drop(train_data[train_data['fare_amount']<0].index, axis=0)\ntrain_data.shape",
      "execution_count": null,
      "outputs": []
    },
    {
      "metadata": {
        "trusted": true,
        "_uuid": "9c1b66623915980da25e2c1c53a0bdb6cf85cba0"
      },
      "cell_type": "code",
      "source": "#no more negative values in the fare field\ntrain_data['fare_amount'].describe()",
      "execution_count": null,
      "outputs": []
    },
    {
      "metadata": {
        "trusted": true,
        "_uuid": "5453e9cdd955153d7e9127b8a34750cd57ca265c"
      },
      "cell_type": "code",
      "source": "#highest fare is $500\ntrain_data['fare_amount'].sort_values(ascending=False)",
      "execution_count": null,
      "outputs": []
    },
    {
      "metadata": {
        "_uuid": "22fa46d71268e130eb0827bcd6814cabd0ec327e"
      },
      "cell_type": "markdown",
      "source": "**Next check the passenger_count variable\n**\n"
    },
    {
      "metadata": {
        "trusted": true,
        "_uuid": "da2ecfc63c2c8cd00ffe6862f7c7e17bb4171176"
      },
      "cell_type": "code",
      "source": "train_data['passenger_count'].describe()\n",
      "execution_count": null,
      "outputs": []
    },
    {
      "metadata": {
        "trusted": true,
        "_uuid": "ba76c04c522b826794714a698a5a9f96d37314f6"
      },
      "cell_type": "code",
      "source": "#max is 208 passengers. Assuming that a bus is a 'taxi' in NYC, I don't think a bus can carry 208 passengers! Let' see the distribution of this field\n#LOL! One field. this is DEFINITELY an outlier. Lets drop it \ntrain_data[train_data['passenger_count']>6]\n",
      "execution_count": null,
      "outputs": []
    },
    {
      "metadata": {
        "trusted": true,
        "_uuid": "56665cde8264b8a774bb2aed0c487ec599fa8949"
      },
      "cell_type": "code",
      "source": "train_data=train_data.drop(train_data[train_data['passenger_count']==208].index,axis=0)",
      "execution_count": null,
      "outputs": []
    },
    {
      "metadata": {
        "trusted": true,
        "_uuid": "ba167a85070ce15a6efc0e77c143c63cc187d792"
      },
      "cell_type": "code",
      "source": "#much neater now! Max number of passengers are 6. Which makes sense is the cab is an SUV :)\ntrain_data['passenger_count'].describe()",
      "execution_count": null,
      "outputs": []
    },
    {
      "metadata": {
        "trusted": true,
        "_uuid": "6ce5a8f8191fbbfdcf139584f2379646a381effb"
      },
      "cell_type": "code",
      "source": "#Next, let us explore the pickup latitude and longitudes\ntrain_data['pickup_latitude'].describe()",
      "execution_count": null,
      "outputs": []
    },
    {
      "metadata": {
        "_uuid": "3c0b8db91af1fff7e6ff39a73113744083073f22"
      },
      "cell_type": "markdown",
      "source": "Quick Googling gave me this info\n\n* Latitudes range from -90 to 90.\n* Longitudes range from -180 to 180.\n* The above describe clearly shows some outliers. Let's filter them"
    },
    {
      "metadata": {
        "trusted": true,
        "_uuid": "dbc31d331bdb19da58c0e60b3921e33aa320461e"
      },
      "cell_type": "code",
      "source": "train_data[train_data['pickup_latitude']<-90]\n",
      "execution_count": null,
      "outputs": []
    },
    {
      "metadata": {
        "trusted": true,
        "_uuid": "06f36daeb4e489f7ed31de6951b7a1d8442c8868"
      },
      "cell_type": "code",
      "source": "train_data[train_data['pickup_latitude']>90]\n",
      "execution_count": null,
      "outputs": []
    },
    {
      "metadata": {
        "trusted": true,
        "_uuid": "ccc46ddf8de04023562f1459f10d72d9b1d26cce"
      },
      "cell_type": "code",
      "source": "#We need to drop these outliers\ntrain_data = train_data.drop(((train_data[train_data['pickup_latitude']<-90])|(train_data[train_data['pickup_latitude']>90])).index, axis=0)",
      "execution_count": null,
      "outputs": []
    },
    {
      "metadata": {
        "trusted": true,
        "_uuid": "3396e7120cf114e75d485bbfdf3bdcace704dee6"
      },
      "cell_type": "code",
      "source": "#12 rows dropped\ntrain_data.shape",
      "execution_count": null,
      "outputs": []
    },
    {
      "metadata": {
        "trusted": true,
        "_uuid": "1292ca0f8f593a18bd1537766248207b25e2bcfc"
      },
      "cell_type": "code",
      "source": "#similar operation for pickup longitude\ntrain_data['pickup_longitude'].describe()",
      "execution_count": null,
      "outputs": []
    },
    {
      "metadata": {
        "trusted": true,
        "_uuid": "e9252e71497e833c5f4ebbe792e4ebebb8c704e6"
      },
      "cell_type": "code",
      "source": "train_data[train_data['pickup_longitude']<-180]\n",
      "execution_count": null,
      "outputs": []
    },
    {
      "metadata": {
        "trusted": true,
        "_uuid": "091fae87a376657400a34138b6e4523c83f26dd8"
      },
      "cell_type": "code",
      "source": "train_data[train_data['pickup_longitude']>180]\n",
      "execution_count": null,
      "outputs": []
    },
    {
      "metadata": {
        "trusted": true,
        "_uuid": "1d33aeba13dfffbcd39a6691df984e2054ae9838"
      },
      "cell_type": "code",
      "source": "# lets drop the values that are not required\ntrain_data = train_data.drop(((train_data[train_data['pickup_longitude']<-180])|(train_data[train_data['pickup_longitude']>180])).index, axis=0)\n",
      "execution_count": null,
      "outputs": []
    },
    {
      "metadata": {
        "trusted": true,
        "_uuid": "2442dd565692554dce7a81bc570755bb357770eb"
      },
      "cell_type": "code",
      "source": "#11 rows dropped\ntrain_data.shape",
      "execution_count": null,
      "outputs": []
    },
    {
      "metadata": {
        "trusted": true,
        "_uuid": "909a96350b87706dc7755135ee014d67ac424bfd"
      },
      "cell_type": "code",
      "source": "#similar operation for dropoff latitude and longitude\ntrain_data[train_data['dropoff_latitude']<-90]",
      "execution_count": null,
      "outputs": []
    },
    {
      "metadata": {
        "trusted": true,
        "_uuid": "451d3d3b9d7960b5d218fc3e85f981f50addf1e3"
      },
      "cell_type": "code",
      "source": "train_data[train_data['dropoff_latitude']>90]",
      "execution_count": null,
      "outputs": []
    },
    {
      "metadata": {
        "trusted": true,
        "_uuid": "99d96a7457e0a90564cbf74c0d5ed6836edadd90"
      },
      "cell_type": "code",
      "source": "train_data = train_data.drop(((train_data[train_data['dropoff_latitude']<-90])|(train_data[train_data['dropoff_latitude']>90])).index, axis=0)",
      "execution_count": null,
      "outputs": []
    },
    {
      "metadata": {
        "trusted": true,
        "_uuid": "efbdf9a25150797660ba515d1a0e145bec870dc8"
      },
      "cell_type": "code",
      "source": "#8 rows dropped\ntrain_data.shape",
      "execution_count": null,
      "outputs": []
    },
    {
      "metadata": {
        "trusted": true,
        "_uuid": "051c6c1bc558ad8924a626cd0f271911a1218205"
      },
      "cell_type": "code",
      "source": "train_data[train_data['dropoff_latitude']>180]\n",
      "execution_count": null,
      "outputs": []
    },
    {
      "metadata": {
        "trusted": true,
        "_uuid": "01b453268ed0823168e92d04e5310ebc24d229cb"
      },
      "cell_type": "code",
      "source": "train_data[train_data['dropoff_latitude']<-180]\n",
      "execution_count": null,
      "outputs": []
    },
    {
      "metadata": {
        "trusted": true,
        "_uuid": "b49f4308c826cb7e126a4941fea9d1fd0b24ee37"
      },
      "cell_type": "code",
      "source": "train_data[train_data['dropoff_latitude']<-180]|train_data[train_data['dropoff_latitude']>180]\n",
      "execution_count": null,
      "outputs": []
    },
    {
      "metadata": {
        "trusted": true,
        "_uuid": "3085db5cf7622ff6188903123753d29fd58dd88e"
      },
      "cell_type": "code",
      "source": "train_data.dtypes\n",
      "execution_count": null,
      "outputs": []
    },
    {
      "metadata": {
        "_uuid": "902cd27cfb65b5f45bd2251daa854c9316113a7d"
      },
      "cell_type": "markdown",
      "source": "**key and pickup_datetime seem to be datetime columns which are in object format. Let's convert them to datetime\n**\n"
    },
    {
      "metadata": {
        "trusted": true,
        "_uuid": "6429eab388455d4fc2343e32a184d22246de3b74"
      },
      "cell_type": "code",
      "source": "train_data['key'] = pd.to_datetime(train_data['key'])\ntrain_data['pickup_datetime']  = pd.to_datetime(train_data['pickup_datetime'])\n",
      "execution_count": null,
      "outputs": []
    },
    {
      "metadata": {
        "trusted": true,
        "_uuid": "79b5fdf3d126caa9390c8cfa5074ecaa1f94e432"
      },
      "cell_type": "code",
      "source": "#Convert for test data\ntest_data['key'] = pd.to_datetime(test_data['key'])\ntest_data['pickup_datetime']  = pd.to_datetime(test_data['pickup_datetime'])",
      "execution_count": null,
      "outputs": []
    },
    {
      "metadata": {
        "trusted": true,
        "_uuid": "bcae61774aece605e9c7dbb862a92f5a37404a64"
      },
      "cell_type": "code",
      "source": "#check the dtypes after conversion\ntrain_data.dtypes",
      "execution_count": null,
      "outputs": []
    },
    {
      "metadata": {
        "trusted": true,
        "_uuid": "fc298eccdc9c438fe15e463f75edeb7bba7864bd"
      },
      "cell_type": "code",
      "source": "test_data.dtypes\n",
      "execution_count": null,
      "outputs": []
    },
    {
      "metadata": {
        "trusted": true,
        "scrolled": true,
        "_uuid": "e8cebc73cc6f539b44386909ee8f882782552574"
      },
      "cell_type": "code",
      "source": "#check the data\ntrain_data.head()\n",
      "execution_count": null,
      "outputs": []
    },
    {
      "metadata": {
        "trusted": true,
        "_uuid": "024b7fbe5805b6ad3d85bdcb6ae76426d567d075"
      },
      "cell_type": "code",
      "source": "test_data.head()",
      "execution_count": null,
      "outputs": []
    },
    {
      "metadata": {
        "_uuid": "3cb0a473bb197e6b4d9d08caa49f6af932e68bce"
      },
      "cell_type": "markdown",
      "source": "**Exploratory Data Analysis\n**\nNow, for EDA. The following are my considerations -\n\n1. Does the number of passengers affect the fare?\n2. Does the date and time of pickup affect the fare?\n3. Does the day of the week affect the fare?\n4. Does the distance travelled affect the fare?\nFirst, let's split the datetime field 'pickup_datetime' to the following -\n\nyear\nmonth\ndate\nhour\nday of week\nUsing these we shall calculate the day of the week and come to our conclusions about how pickup_location affects the fare. Also, create a new field 'distance' to fetch the distance between the pickup and the drop.\n\nWe can calulate the distance in a sphere when latitudes and longitudes are given by Haversine formula\n\nhaversine(θ) = sin²(θ/2)\n\nEventually, the formual boils down to the following where φ is latitude, λ is longitude, R is earth’s radius (mean radius = 6,371km) to include latitude and longitude coordinates (A and B in this case).\n\na = sin²((φB - φA)/2) + cos φA . cos φB . sin²((λB - λA)/2)\n\nc = 2 * atan2( √a, √(1−a) )\n\nd = R ⋅ c\n\nd = Haversine distance\n\nRefer this page for more info and examples on Haversine formula\n\nhttps://community.esri.com/groups/coordinate-reference-systems/blog/2017/10/05/haversine-formula\n\n"
    },
    {
      "metadata": {
        "trusted": true,
        "_uuid": "dc8b966b6b2757a4fd918c5b569ef83a72042dda"
      },
      "cell_type": "code",
      "source": "def haversine_distance(lat1, long1, lat2, long2):\n    data = [train_data, test_data]\n    for i in data:\n        R = 6371  #radius of earth in kilometers\n        #R = 3959 #radius of earth in miles\n        phi1 = np.radians(i[lat1])\n        phi2 = np.radians(i[lat2])\n    \n        delta_phi = np.radians(i[lat2]-i[lat1])\n        delta_lambda = np.radians(i[long2]-i[long1])\n    \n        #a = sin²((φB - φA)/2) + cos φA . cos φB . sin²((λB - λA)/2)\n        a = np.sin(delta_phi / 2.0) ** 2 + np.cos(phi1) * np.cos(phi2) * np.sin(delta_lambda / 2.0) ** 2\n    \n        #c = 2 * atan2( √a, √(1−a) )\n        c = 2 * np.arctan2(np.sqrt(a), np.sqrt(1-a))\n    \n        #d = R*c\n        d = (R * c) #in kilometers\n        i['H_Distance'] = d\n    return d\n",
      "execution_count": null,
      "outputs": []
    },
    {
      "metadata": {
        "trusted": true,
        "_uuid": "a59d80e8866a5c237db17bceb8afe44fd8453c9e"
      },
      "cell_type": "code",
      "source": "haversine_distance('pickup_latitude', 'pickup_longitude', 'dropoff_latitude', 'dropoff_longitude')\n",
      "execution_count": null,
      "outputs": []
    },
    {
      "metadata": {
        "trusted": true,
        "_uuid": "1a759ce919fe292919388f4541a0ef3fe6f46b96"
      },
      "cell_type": "code",
      "source": "train_data['H_Distance'].head(10)\n",
      "execution_count": null,
      "outputs": []
    },
    {
      "metadata": {
        "trusted": true,
        "_uuid": "6e6f2422ffb3a769996b1acb1738733e57a286dc"
      },
      "cell_type": "code",
      "source": "test_data['H_Distance'].head(10)\n",
      "execution_count": null,
      "outputs": []
    },
    {
      "metadata": {
        "trusted": true,
        "_uuid": "bc3770eb92294359d509c365ca5bd9d79e695406"
      },
      "cell_type": "code",
      "source": "train_data.head(10)\n",
      "execution_count": null,
      "outputs": []
    },
    {
      "metadata": {
        "trusted": true,
        "_uuid": "83f2c8e020f0c5e83ceb9bc082f6d2608d255801"
      },
      "cell_type": "code",
      "source": "test_data.head(10)\n",
      "execution_count": null,
      "outputs": []
    },
    {
      "metadata": {
        "_uuid": "b78b8c9b667aa096c0fa2713e44b8263c0f30ab0"
      },
      "cell_type": "markdown",
      "source": "Now that we have calculated the distance, we shall create columns for the following -\n\n* year\n* month\n* date\n* hour\n* day of week"
    },
    {
      "metadata": {
        "trusted": true,
        "_uuid": "6ed534aa4f37495d8e8e5365d10a2db436d680aa"
      },
      "cell_type": "code",
      "source": "data = [train_data,test_data]\nfor i in data:\n    i['Year'] = i['pickup_datetime'].dt.year\n    i['Month'] = i['pickup_datetime'].dt.month\n    i['Date'] = i['pickup_datetime'].dt.day\n    i['Day of Week'] = i['pickup_datetime'].dt.dayofweek\n    i['Hour'] = i['pickup_datetime'].dt.hour",
      "execution_count": null,
      "outputs": []
    },
    {
      "metadata": {
        "trusted": true,
        "_uuid": "3f639360cfd491397f2632c6840d4fdc7bc8ad0a"
      },
      "cell_type": "code",
      "source": "train_data.head()\n",
      "execution_count": null,
      "outputs": []
    },
    {
      "metadata": {
        "trusted": true,
        "_uuid": "dfbdaef3a67bcc7a4b6cae52b18236747292b0f8"
      },
      "cell_type": "code",
      "source": "test_data.head()\n",
      "execution_count": null,
      "outputs": []
    },
    {
      "metadata": {
        "_uuid": "13c8bb2a76c23537678fcbf3562a650bc9aca0ed"
      },
      "cell_type": "markdown",
      "source": "**1. Does the number of passengers affect the fare?**\n\n\n\n"
    },
    {
      "metadata": {
        "trusted": true,
        "_uuid": "f6899747067e20dd471d0baf923dd19b9779a05c"
      },
      "cell_type": "code",
      "source": "plt.figure(figsize=(15,7))\nplt.hist(train_data['passenger_count'], bins=15)\nplt.xlabel('No. of Passengers')\nplt.ylabel('Frequency')\n",
      "execution_count": null,
      "outputs": []
    },
    {
      "metadata": {
        "trusted": true,
        "_uuid": "ca2a23ef4ca5e21f38e6a6e97f16eea140d600bb"
      },
      "cell_type": "code",
      "source": "plt.figure(figsize=(15,7))\nplt.scatter(x=train_data['passenger_count'], y=train_data['fare_amount'], s=1.5)\nplt.xlabel('No. of Passengers')\nplt.ylabel('Fare')",
      "execution_count": null,
      "outputs": []
    },
    {
      "metadata": {
        "_uuid": "3a2753692409d7ca29d001a8ddf028f67795d77f"
      },
      "cell_type": "markdown",
      "source": "From the above 2 graphs we can see that single passengers are the most frequent travellers, and the highest fare also seems to come from cabs which carry just 1 passenger.\n\n**2. Does the date and time of pickup affect the fare?**"
    },
    {
      "metadata": {
        "trusted": true,
        "_uuid": "ac03d80e46f8dae52a47caca10f065d511cd0e16"
      },
      "cell_type": "code",
      "source": "plt.figure(figsize=(15,7))\nplt.scatter(x=train_data['Date'], y=train_data['fare_amount'], s=1.5)\nplt.xlabel('Date')\nplt.ylabel('Fare')",
      "execution_count": null,
      "outputs": []
    },
    {
      "metadata": {
        "_uuid": "9dc30ff40773226ceaf61a6ff9c987db538acfd9"
      },
      "cell_type": "markdown",
      "source": "The fares throught the month mostly seem uniform, with the maximum fare received on the 12th\n\n"
    },
    {
      "metadata": {
        "trusted": true,
        "_uuid": "800f61cab9d76858e409fafd6b906522968d3bcd"
      },
      "cell_type": "code",
      "source": "plt.figure(figsize=(15,7))\nplt.hist(train_data['Hour'], bins=100)\nplt.xlabel('Hour')\nplt.ylabel('Frequency')\n",
      "execution_count": null,
      "outputs": []
    },
    {
      "metadata": {
        "_uuid": "9be01f45b7630542aa98ffadcd71fb1cbfa10434"
      },
      "cell_type": "markdown",
      "source": "Interesting! The time of day definitely plays an important role. The frequency of cab rides seem to be the lowest at 5AM and the highest at 7PM."
    },
    {
      "metadata": {
        "trusted": true,
        "_uuid": "704625debf65ffe82c67f5cbb5947a73031eb07b"
      },
      "cell_type": "code",
      "source": "plt.figure(figsize=(15,7))\nplt.scatter(x=train_data['Hour'], y=train_data['fare_amount'], s=1.5)\nplt.xlabel('Hour')\nplt.ylabel('Fare')",
      "execution_count": null,
      "outputs": []
    },
    {
      "metadata": {
        "_uuid": "6d6dfd2c05071c3fa291ea825a2a1a6255097cb6"
      },
      "cell_type": "markdown",
      "source": "The fares, however, seem to be high betweeb 5AM and 10AM, and 2PM to 4PM. Maybe people who live far away prefer to leave earlier to avoid rush hour traffic?\n\n**3. Does the day of the week affect the fare?**"
    },
    {
      "metadata": {
        "trusted": true,
        "_uuid": "2f230ca27c1b239f5f5fa0aa2d1b840c6eb83e9b"
      },
      "cell_type": "code",
      "source": "plt.figure(figsize=(15,7))\nplt.hist(train_data['Day of Week'], bins=100)\nplt.xlabel('Day of Week')\nplt.ylabel('Frequency')",
      "execution_count": null,
      "outputs": []
    },
    {
      "metadata": {
        "_uuid": "fbbfc881faded0d26822c0eaf8741dc8578b59ba"
      },
      "cell_type": "markdown",
      "source": "NO, day of the week doesn't seem to have that much of an influence on the number of cab rides\n\n"
    },
    {
      "metadata": {
        "trusted": true,
        "_uuid": "1c44d7af2ed637a6c9ae67bf48d247e0e27313ad"
      },
      "cell_type": "code",
      "source": "plt.figure(figsize=(15,7))\nplt.scatter(x=train_data['Day of Week'], y=train_data['fare_amount'], s=1.5)\nplt.xlabel('Day of Week')\nplt.ylabel('Fare')\n",
      "execution_count": null,
      "outputs": []
    },
    {
      "metadata": {
        "_uuid": "f1188fb86013273a47f41f672031b4be03d730fd"
      },
      "cell_type": "markdown",
      "source": "The highest fares seem to be on a Sunday and Monday, and the lowest on Wednesday and Friday. Maybe people travel far distances on Sunday and Monday (visiting family and returning back home), and hence, the high fares. And guess people just want to stay at home on a Friday after a hectic week at work, or grab a drink from close by. Hmmm..\n\n**4. Does the distance affect the fare?**\n\nThis is a no-brainer. I am confident that the distance would affect the fare a great deal. But I will visualise it.\n\nFirstly, let's check the frequency of the distances that we calculated using Haversine formula. I will do so by creating bins (0-10 kms, 10-20 kms, and so on, and check for any outliers)"
    },
    {
      "metadata": {
        "trusted": true,
        "_uuid": "3cb7fb2ef88c72f186dc10c29e29e8f4a77d7ae7"
      },
      "cell_type": "code",
      "source": "train_data.sort_values(['H_Distance','fare_amount'], ascending=False)\n",
      "execution_count": null,
      "outputs": []
    },
    {
      "metadata": {
        "trusted": true,
        "scrolled": true,
        "_uuid": "ab082369a7a21765e1f9349f6a58430d0a6d0fdf"
      },
      "cell_type": "code",
      "source": "len(train_data)\n",
      "execution_count": null,
      "outputs": []
    },
    {
      "metadata": {
        "trusted": true,
        "_uuid": "ff0fbc66720a6eb8a502a340ae46b0d971cee6df"
      },
      "cell_type": "code",
      "source": "bins_0 = train_data.loc[(train_data['H_Distance'] == 0), ['H_Distance']]\nbins_1 = train_data.loc[(train_data['H_Distance'] > 0) & (train_data['H_Distance'] <= 10),['H_Distance']]\nbins_2 = train_data.loc[(train_data['H_Distance'] > 10) & (train_data['H_Distance'] <= 50),['H_Distance']]\nbins_3 = train_data.loc[(train_data['H_Distance'] > 50) & (train_data['H_Distance'] <= 100),['H_Distance']]\nbins_4 = train_data.loc[(train_data['H_Distance'] > 100) & (train_data['H_Distance'] <= 200),['H_Distance']]\nbins_5 = train_data.loc[(train_data['H_Distance'] > 200) & (train_data['H_Distance'] <= 300),['H_Distance']]\nbins_6 = train_data.loc[(train_data['H_Distance'] > 300),['H_Distance']]\nbins_0['bins'] = '0'\nbins_1['bins'] = '0-10'\nbins_2['bins'] = '11-50'\nbins_3['bins'] = '51-100'\nbins_4['bins'] = '100-200'\nbins_5['bins'] = '201-300'\nbins_6['bins'] = '>300'\ndist_bins =pd.concat([bins_0,bins_1,bins_2,bins_3,bins_4,bins_5,bins_6])\n#len(dist_bins)\ndist_bins.columns",
      "execution_count": null,
      "outputs": []
    },
    {
      "metadata": {
        "trusted": true,
        "_uuid": "123f0b656c79fe1b76e6ec74adcc89504af92c84"
      },
      "cell_type": "code",
      "source": "# KERNEL NOT RESPONDING\n#plt.figure(figsize=(15,7))\n#plt.hist(dist_bins['bins'], bins=75)\n#plt.xlabel('Bins')\n#plt.ylabel('Frequency')",
      "execution_count": null,
      "outputs": []
    },
    {
      "metadata": {
        "trusted": true,
        "_uuid": "577947bc0fc9d24bd308a7e3c2154b6c98da575d"
      },
      "cell_type": "code",
      "source": "Counter(dist_bins['bins'])\n",
      "execution_count": null,
      "outputs": []
    },
    {
      "metadata": {
        "_uuid": "9e9c45968d7442b71633356ae4048120184baad8"
      },
      "cell_type": "markdown",
      "source": "There are values which are greater than 100 kms! In NYC I am not sure why people would take cabs to travel more than a 100 kms. Since the number of bins for 100-200 kms is quite high, I will keep these. These outliers could be because of typos or missing values in the latitude or longitude. Remove fields of the following -\n\n* Pickup latitude and pickup longitude are 0 but dropoff latitude and longitude are not 0, but the fare is 0\n* vice versa of point 1.\n* Pickup latitude and pickup longitude are 0 but dropoff latitude and longitude are not 0, but the fare is NOT 0. Here I will have to impute the distance values in both the train and test data"
    },
    {
      "metadata": {
        "trusted": true,
        "_uuid": "ce89fb06dc6ba4b74e57143af98475ba4455639f"
      },
      "cell_type": "code",
      "source": "#pickup latitude and longitude = 0\ntrain_data.loc[((train_data['pickup_latitude']==0) & (train_data['pickup_longitude']==0))&((train_data['dropoff_latitude']!=0) & (train_data['dropoff_longitude']!=0)) & (train_data['fare_amount']==0)]",
      "execution_count": null,
      "outputs": []
    },
    {
      "metadata": {
        "trusted": true,
        "_uuid": "28bb5c8fb27d3b35311d6b4dae1b5a2b5477ff5c"
      },
      "cell_type": "code",
      "source": "train_data = train_data.drop(train_data.loc[((train_data['pickup_latitude']==0) & (train_data['pickup_longitude']==0))&((train_data['dropoff_latitude']!=0) & (train_data['dropoff_longitude']!=0)) & (train_data['fare_amount']==0)].index, axis=0)",
      "execution_count": null,
      "outputs": []
    },
    {
      "metadata": {
        "trusted": true,
        "_uuid": "ff4c47a6a279a4f907c833b08c14548c93132523"
      },
      "cell_type": "code",
      "source": "#1 row dropped\ntrain_data.shape",
      "execution_count": null,
      "outputs": []
    },
    {
      "metadata": {
        "trusted": true,
        "_uuid": "690065c31f6d78023248f0fe4932e1737712a05e"
      },
      "cell_type": "code",
      "source": "#Check in test data\ntest_data.loc[((test_data['pickup_latitude']==0) & (test_data['pickup_longitude']==0))&((test_data['dropoff_latitude']!=0) & (test_data['dropoff_longitude']!=0))]\n#No records!",
      "execution_count": null,
      "outputs": []
    },
    {
      "metadata": {
        "trusted": true,
        "_uuid": "188411d98c8125803735002b2db2e0c6dea92e9f"
      },
      "cell_type": "code",
      "source": "#dropoff latitude and longitude = 0\ntrain_data.loc[((train_data['pickup_latitude']!=0) & (train_data['pickup_longitude']!=0))&((train_data['dropoff_latitude']==0) & (train_data['dropoff_longitude']==0)) & (train_data['fare_amount']==0)]",
      "execution_count": null,
      "outputs": []
    },
    {
      "metadata": {
        "trusted": true,
        "_uuid": "f67969f24e28bff81991af1f7920d73039c35e0b"
      },
      "cell_type": "code",
      "source": "train_data = train_data.drop(train_data.loc[((train_data['pickup_latitude']!=0) & (train_data['pickup_longitude']!=0))&((train_data['dropoff_latitude']==0) & (train_data['dropoff_longitude']==0)) & (train_data['fare_amount']==0)].index, axis=0)",
      "execution_count": null,
      "outputs": []
    },
    {
      "metadata": {
        "trusted": true,
        "_uuid": "4d54c80598ad97ecf1ced4a692d4b468ad788f9f"
      },
      "cell_type": "code",
      "source": "#3 rows dropped\ntrain_data.shape",
      "execution_count": null,
      "outputs": []
    },
    {
      "metadata": {
        "trusted": true,
        "_uuid": "726d4b806b2dca4898e9f911afbbe9ae781d645b"
      },
      "cell_type": "code",
      "source": "#Checking test data\n#Again no records! AWESOME!\ntest_data.loc[((test_data['pickup_latitude']!=0) & (test_data['pickup_longitude']!=0))&((test_data['dropoff_latitude']==0) & (test_data['dropoff_longitude']==0))]",
      "execution_count": null,
      "outputs": []
    },
    {
      "metadata": {
        "_uuid": "821aedc859b140a1df6d462d8ee3a23fd41b535d"
      },
      "cell_type": "markdown",
      "source": "Check the H_Distance fields which are greater than 200 kms cause there is no way that people would travel more than 200 kms at the most in NYC in a CAB!"
    },
    {
      "metadata": {
        "trusted": true,
        "_uuid": "035372432e2a47ace5529218f1e76571a8549b66"
      },
      "cell_type": "code",
      "source": "high_distance = train_data.loc[(train_data['H_Distance']>200)&(train_data['fare_amount']!=0)]",
      "execution_count": null,
      "outputs": []
    },
    {
      "metadata": {
        "trusted": true,
        "_uuid": "1be83c0600fdf4ce2d21a849434ea328c52c7948"
      },
      "cell_type": "code",
      "source": "high_distance\n",
      "execution_count": null,
      "outputs": []
    },
    {
      "metadata": {
        "_uuid": "121cfa6e4c7d6d85eadbd60f156ab4d82072496e"
      },
      "cell_type": "markdown",
      "source": "1938 rows! As you can see from the DF above, the abnormally high distances are due to either the pickup or dropoff co-ordinates being incorrect or 0. However, since all these values have fares, I do not wish to drop them as they contain crucial data. Instead, I will replace the initial distance values with distance values calculated using the fare using the following formula\n\ndistance = (fare_amount - 2.5)/1.56\n\n"
    },
    {
      "metadata": {
        "trusted": true,
        "_uuid": "88a568f2bff1cfa21abf26d8ddcea7a0c4dcd5f7"
      },
      "cell_type": "code",
      "source": "high_distance.shape\n",
      "execution_count": null,
      "outputs": []
    },
    {
      "metadata": {
        "trusted": true,
        "_uuid": "97a6140d9580fdd6b86661395cc6151f45e6730d"
      },
      "cell_type": "code",
      "source": "high_distance['H_Distance'] = high_distance.apply(\n    lambda row: (row['fare_amount'] - 2.50)/1.56,\n    axis=1\n)",
      "execution_count": null,
      "outputs": []
    },
    {
      "metadata": {
        "trusted": true,
        "_uuid": "ae64977d4db0116f03f5146a9b48dde1496c4fb7"
      },
      "cell_type": "code",
      "source": "high_distance\n",
      "execution_count": null,
      "outputs": []
    },
    {
      "metadata": {
        "trusted": true,
        "_uuid": "fd76c2edff6fbd818fd33af1e9ae51661eb13be2"
      },
      "cell_type": "code",
      "source": "train_data.update(high_distance)\n",
      "execution_count": null,
      "outputs": []
    },
    {
      "metadata": {
        "_uuid": "89440e123189e6e472c3f74599c4c5e515096fc1"
      },
      "cell_type": "markdown",
      "source": "Now we shall check for rows where the distance values are 0\n\n"
    },
    {
      "metadata": {
        "trusted": true,
        "_uuid": "5efefe7c75b49b37384382f6ee87924cf676c0e6"
      },
      "cell_type": "code",
      "source": "train_data[train_data['H_Distance']==0]\n",
      "execution_count": null,
      "outputs": []
    },
    {
      "metadata": {
        "_uuid": "5d72c7a63b28ed428162b36dddf05b120389fa2e"
      },
      "cell_type": "markdown",
      "source": "We can see a few rows with distance =0. This could be due to 2 reasons\n\nThe cab waited the whole time and the passenger eventually cancelled. That's why the pickup and drop co-ordinates are the same and maybe, the passenger was charged for the waiting time.\nThe pickup and drop co-ordinates were not entered. In other words, these are missing values!\n28667 rows are too many rows to be deleted. We need to impute these missing values. I have a plan. I intend to impute the missing distance values with the fare and average price per kilometer of NYC cabs.\n\nA quick Google search gave me the following prices -\n\n$$2.5 base-price + $1.56/km --> 6AM to 8PM Mon-Fri\n\n$$3.0 base-price + $1.56/km --> 8PM to 6AM Mon-Fri and Sat&Sun\n\nHowever, before we proceed with the above steps, lets check for the following scenarios to impute the missing fare amount and the H_Distance in train data"
    },
    {
      "metadata": {
        "_uuid": "a99239afb47902c20e79b2ccb814b9cfd59bca20"
      },
      "cell_type": "markdown",
      "source": "SCENARIO 1\n\nFare and Distance are both 0. According to the table above, we shall delete them as they do not provide us any info with regards to the data.train[(train['H_Distance']==0)&(train['fare_amount']==0)]\n"
    },
    {
      "metadata": {
        "trusted": true,
        "_uuid": "90e6b8bf7ef53fc7f12a7c96f464c23efab138ac"
      },
      "cell_type": "code",
      "source": "train_data[(train_data['H_Distance']==0)&(train_data['fare_amount']==0)]\n",
      "execution_count": null,
      "outputs": []
    },
    {
      "metadata": {
        "_uuid": "dd0db3109d4141d1a45462f7f7124842f02daff8"
      },
      "cell_type": "markdown",
      "source": "There are 4 rows. There 4 rows do not help us in anyway as we do not know either the distance or the fare to impute the missing values. So we shall drop them\n\n"
    },
    {
      "metadata": {
        "trusted": true,
        "_uuid": "691ea314ca3a76b559c3df790ae800a868fa7686"
      },
      "cell_type": "code",
      "source": "train_data = train_data.drop(train_data[(train_data['H_Distance']==0)&(train_data['fare_amount']==0)].index, axis = 0)\n",
      "execution_count": null,
      "outputs": []
    },
    {
      "metadata": {
        "trusted": true,
        "_uuid": "c964d541a458da32bd023989bbe9424fc5867b09"
      },
      "cell_type": "code",
      "source": "#4 rows dropped\ntrain_data[(train_data['H_Distance']==0)].shape\n",
      "execution_count": null,
      "outputs": []
    },
    {
      "metadata": {
        "_uuid": "f1bdec84dbb2639122bf19de74f3939f50c3abcd"
      },
      "cell_type": "markdown",
      "source": "SCENARIO 2\n\nFare is not 0 and is less than the base amount, but Distance is 0.\n\nDelete these rows as the minimum is $2.50, and these fares are incorrect values."
    },
    {
      "metadata": {
        "trusted": true,
        "_uuid": "a5c9804d2435bd4cbe2aea68ec3ad99272024ad4"
      },
      "cell_type": "code",
      "source": "rush_hour = train_data.loc[(((train_data['Hour']>=6)&(train_data['Hour']<=20)) & ((train_data['Day of Week']>=1) & (train_data['Day of Week']<=5)) & (train_data['H_Distance']==0) & (train_data['fare_amount'] < 2.5))]\nrush_hour",
      "execution_count": null,
      "outputs": []
    },
    {
      "metadata": {
        "trusted": true,
        "_uuid": "91df94984fa331a201c4c1a7d87f5db25c99bbe9"
      },
      "cell_type": "code",
      "source": "train_data=train_data.drop(rush_hour.index, axis=0)\n",
      "execution_count": null,
      "outputs": []
    },
    {
      "metadata": {
        "trusted": true,
        "_uuid": "ca13dc5d27c8cdac70cbe5ba27ccc3c3056d786a"
      },
      "cell_type": "code",
      "source": "train_data.shape\n",
      "execution_count": null,
      "outputs": []
    },
    {
      "metadata": {
        "trusted": true,
        "_uuid": "1e5e2b30afaf5f9c0fd1462a9b0e7c660e2240e9"
      },
      "cell_type": "code",
      "source": "#Between 8PM and 6AM on Mon-Fri\nnon_rush_hour = train_data.loc[(((train_data['Hour']<6)|(train_data['Hour']>20)) & ((train_data['Day of Week']>=1)&(train_data['Day of Week']<=5)) & (train_data['H_Distance']==0) & (train_data['fare_amount'] < 3.0))]\n#print(Counter(non_work_hours['Hour']))\n#print(Counter(non_work_hours['Day of Week']))\nnon_rush_hour\n#keep these. Since the fare_amount is not <2.5 (which is the base fare), these values seem legit to me.",
      "execution_count": null,
      "outputs": []
    },
    {
      "metadata": {
        "trusted": true,
        "_uuid": "884ea2788db2c238f8c6143a3bc9f03c12e34192"
      },
      "cell_type": "code",
      "source": "#Saturday and Sunday all hours\nweekends = train_data.loc[((train_data['Day of Week']==0) | (train_data['Day of Week']==6)) & (train_data['H_Distance']==0) & (train_data['fare_amount'] < 3.0)]\nweekends\n#Counter(weekends['Day of Week'])\n#keep these too. Since the fare_amount is not <2.5, these values seem legit to me.",
      "execution_count": null,
      "outputs": []
    },
    {
      "metadata": {
        "_uuid": "753880c75cf997349a1088d58ee45f64c90142a6"
      },
      "cell_type": "markdown",
      "source": "From scenario 2, I can understand that the distance is 0, but the fare is all the minimum fare of $2.5. This could be because the passenger booked the cab but ended up cancelling to pay the base fare (not sure how this works in NYC, but I'm assuming that's how it is)"
    },
    {
      "metadata": {
        "_uuid": "f3d6c2bf7e7ce84c0a209c86e9dfe4fe1802b217"
      },
      "cell_type": "markdown",
      "source": "SCENARIO 3\n\nFare is 0, but Distance is not 0. These values need to be imputed.\n\nI can calculate the fare as I have the distance. I shall use the following formula\n\nfare = 2.5 + 1.56(H_Distance)"
    },
    {
      "metadata": {
        "trusted": true,
        "_uuid": "718c99ccadddba7ba152050ca992232d0aea285f"
      },
      "cell_type": "code",
      "source": "train_data.loc[(train_data['H_Distance']!=0) & (train_data['fare_amount']==0)]\n",
      "execution_count": null,
      "outputs": []
    },
    {
      "metadata": {
        "trusted": true,
        "_uuid": "b9458be3e6171b62f2c5443c122796041c990558"
      },
      "cell_type": "code",
      "source": "scenario_3 = train_data.loc[(train_data['H_Distance']!=0) & (train_data['fare_amount']==0)]\n",
      "execution_count": null,
      "outputs": []
    },
    {
      "metadata": {
        "trusted": true,
        "_uuid": "3180707f548779bf4ac1c376cbe6bacd43e19825"
      },
      "cell_type": "code",
      "source": "len(scenario_3)\n",
      "execution_count": null,
      "outputs": []
    },
    {
      "metadata": {
        "trusted": true,
        "_uuid": "1a3713421b1863c8877d12941f6c37dc9cfeb9c3"
      },
      "cell_type": "code",
      "source": "#We do not have any distance values that are outliers.\nscenario_3.sort_values('H_Distance', ascending=False)",
      "execution_count": null,
      "outputs": []
    },
    {
      "metadata": {
        "trusted": true,
        "_uuid": "903725821031e742b834f6434f035a50a9a9f97e"
      },
      "cell_type": "code",
      "source": "scenario_3['fare_amount'] = scenario_3.apply(\n    lambda row: ((row['H_Distance'] * 1.56) + 2.50), axis=1\n)",
      "execution_count": null,
      "outputs": []
    },
    {
      "metadata": {
        "trusted": true,
        "_uuid": "94a4d45ad7cf02bc3f16260bda09ec2e77df31ad"
      },
      "cell_type": "code",
      "source": "scenario_3['fare_amount']\n",
      "execution_count": null,
      "outputs": []
    },
    {
      "metadata": {
        "trusted": true,
        "_uuid": "8bd4c3ae808c34499b533bf53ee97de7974e04ad"
      },
      "cell_type": "code",
      "source": "train_data.update(scenario_3)\n",
      "execution_count": null,
      "outputs": []
    },
    {
      "metadata": {
        "trusted": true,
        "_uuid": "4ea4488bf9367eb28a29f0c563273f6afd7deb80"
      },
      "cell_type": "code",
      "source": "train_data.shape\n",
      "execution_count": null,
      "outputs": []
    },
    {
      "metadata": {
        "_uuid": "5bbe2bdff20e4826e6c7363da08ed75460f183c9"
      },
      "cell_type": "markdown",
      "source": "SCENARIO 4\n\nFare is not 0, but Distance is 0. These values need to be imputed."
    },
    {
      "metadata": {
        "trusted": true,
        "_uuid": "81eefb438939bbef421cffe143533bf736178360"
      },
      "cell_type": "code",
      "source": "train_data.loc[(train_data['H_Distance']==0) & (train_data['fare_amount']!=0)]\n",
      "execution_count": null,
      "outputs": []
    },
    {
      "metadata": {
        "trusted": true,
        "_uuid": "e75aef4adfa638936184b969491282466b566530"
      },
      "cell_type": "code",
      "source": "scenario_4 = train_data.loc[(train_data['H_Distance']==0) & (train_data['fare_amount']!=0)]\n",
      "execution_count": null,
      "outputs": []
    },
    {
      "metadata": {
        "trusted": true,
        "_uuid": "7be8bdebfc3844b14cca63de8a17fcca8ae2799b"
      },
      "cell_type": "code",
      "source": "len(scenario_4)\n",
      "execution_count": null,
      "outputs": []
    },
    {
      "metadata": {
        "trusted": true,
        "_uuid": "15f5458fa539a03aa698ff96c4e201825d25087f"
      },
      "cell_type": "code",
      "source": "#Using our prior knowledge about the base price during weekdays and weekends for the cabs.\n#I do not want to impute these 1502 values as they are legible ones.\nscenario_4.loc[(scenario_4['fare_amount']<=3.0)&(scenario_4['H_Distance']==0)]",
      "execution_count": null,
      "outputs": []
    },
    {
      "metadata": {
        "trusted": true,
        "_uuid": "7ff998c0d43e52d9d0a78af39962a2c3f6e0b31c"
      },
      "cell_type": "code",
      "source": "scenario_4.loc[(scenario_4['fare_amount']>3.0)&(scenario_4['H_Distance']==0)]\n",
      "execution_count": null,
      "outputs": []
    },
    {
      "metadata": {
        "_uuid": "78ef0a1658308807f42e8d5d628f347262ce6ced"
      },
      "cell_type": "markdown",
      "source": "These 27159 rows need to be imputed using the following formula -\n\ndistance = (fare_amount - 2.5)/1.56"
    },
    {
      "metadata": {
        "trusted": true,
        "_uuid": "bb907e2ee537253eb0df605143f49cc657216987"
      },
      "cell_type": "code",
      "source": "scenario_4_sub = scenario_4.loc[(scenario_4['fare_amount']>3.0)&(scenario_4['H_Distance']==0)]\n",
      "execution_count": null,
      "outputs": []
    },
    {
      "metadata": {
        "trusted": true,
        "_uuid": "363db3776db1875a8fd85371f8bc31c99c5bf4f8"
      },
      "cell_type": "code",
      "source": "len(scenario_4_sub)\n",
      "execution_count": null,
      "outputs": []
    },
    {
      "metadata": {
        "trusted": true,
        "_uuid": "1bfef071c60ed661665e9619209ded7ef0e9ec1d"
      },
      "cell_type": "code",
      "source": "scenario_4_sub['H_Distance'] = scenario_4_sub.apply(\nlambda row: ((row['fare_amount']-2.50)/1.56), axis=1\n)",
      "execution_count": null,
      "outputs": []
    },
    {
      "metadata": {
        "trusted": true,
        "_uuid": "33fb1c14767606a9b8a9d23978e60d680db146b7"
      },
      "cell_type": "code",
      "source": "train_data.update(scenario_4_sub)\n",
      "execution_count": null,
      "outputs": []
    },
    {
      "metadata": {
        "trusted": true,
        "_uuid": "c2d0bd12acad6b68f043d9dc971c30e1b43a59db"
      },
      "cell_type": "code",
      "source": "train_data.shape\n",
      "execution_count": null,
      "outputs": []
    },
    {
      "metadata": {
        "_uuid": "f86f26d05a648f7996a02a88032ebe2621f4d6a1"
      },
      "cell_type": "markdown",
      "source": "**PART 2 --> MODELLING AND PREDICTION**\n\nFINALLY! Data cleansing is done! Now to split the x and y variables and proceed to modelling. I shall use the random forest method for prediction"
    },
    {
      "metadata": {
        "trusted": true,
        "_uuid": "4c0e25c5cee1d6e8b45f63bca11fe556c7b3d993"
      },
      "cell_type": "code",
      "source": "train_data.columns\n",
      "execution_count": null,
      "outputs": []
    },
    {
      "metadata": {
        "trusted": true,
        "_uuid": "64c72d213fca8e0e726ad33eb642b4cc72764523"
      },
      "cell_type": "code",
      "source": "test_data.columns\n",
      "execution_count": null,
      "outputs": []
    },
    {
      "metadata": {
        "trusted": true,
        "_uuid": "65dd9017a3ff69047750f3c1016fddb7aee94328"
      },
      "cell_type": "code",
      "source": "#not including the pickup_datetime columns as datetime columns cannot be directly used while modelling. Features need to extracted from the \n#timestamp fields which will later be used as features for modelling.\ntrain_data = train_data.drop(['key','pickup_datetime'], axis = 1)\ntest_data = test_data.drop(['key','pickup_datetime'], axis = 1)",
      "execution_count": null,
      "outputs": []
    },
    {
      "metadata": {
        "trusted": true,
        "_uuid": "8678f7d3b7d803461d03ca163e27da7c9a9819c4"
      },
      "cell_type": "code",
      "source": "train_data.columns\n",
      "execution_count": null,
      "outputs": []
    },
    {
      "metadata": {
        "trusted": true,
        "_uuid": "c62b1e53f9370e708f94756476ed2821b79e5930"
      },
      "cell_type": "code",
      "source": "test_data.columns",
      "execution_count": null,
      "outputs": []
    },
    {
      "metadata": {
        "trusted": true,
        "_uuid": "eadf2c8712751bb816a16aa1c13dabb56abf534f"
      },
      "cell_type": "code",
      "source": "x_train = train_data.iloc[:,train_data.columns!='fare_amount']\ny_train = train_data['fare_amount'].values\nx_test = test_data",
      "execution_count": null,
      "outputs": []
    },
    {
      "metadata": {
        "trusted": true,
        "_uuid": "02204f0eca181d7960840100e55fd3438c4e31ef"
      },
      "cell_type": "code",
      "source": "x_train.shape\n",
      "execution_count": null,
      "outputs": []
    },
    {
      "metadata": {
        "trusted": true,
        "_uuid": "bc26bb2f0611c1e080a7c18f8fd62de2b086175f"
      },
      "cell_type": "code",
      "source": "x_train.columns\n",
      "execution_count": null,
      "outputs": []
    },
    {
      "metadata": {
        "trusted": true,
        "_uuid": "e2554e6564a329928d3bd71f0f1f01a43918e99b"
      },
      "cell_type": "code",
      "source": "y_train.shape\n",
      "execution_count": null,
      "outputs": []
    },
    {
      "metadata": {
        "trusted": true,
        "_uuid": "4312a9a482abc8cb6c9f83bf1b6e9754f0e39639"
      },
      "cell_type": "code",
      "source": "x_test.shape\n",
      "execution_count": null,
      "outputs": []
    },
    {
      "metadata": {
        "trusted": true,
        "_uuid": "01ca615eba4bdcaefe3b58ddc73a27178502b016"
      },
      "cell_type": "code",
      "source": "x_test.columns\n",
      "execution_count": null,
      "outputs": []
    },
    {
      "metadata": {
        "trusted": true,
        "_uuid": "5fb95daea169b61ba6c8c691f9a7625e42d810ac"
      },
      "cell_type": "code",
      "source": "from sklearn.ensemble import RandomForestRegressor\nrf = RandomForestRegressor()\nrf.fit(x_train, y_train)\ny_prediction = rf.predict(x_test)\nprint(y_prediction)",
      "execution_count": null,
      "outputs": []
    },
    {
      "metadata": {
        "trusted": true,
        "_uuid": "86b142ae24b91fd1fd3c9974f42345d38906eeff"
      },
      "cell_type": "code",
      "source": "y_prediction.shape",
      "execution_count": null,
      "outputs": []
    },
    {
      "metadata": {
        "trusted": true,
        "_uuid": "dff0437e84adc96af0bb22f07a2099e6ea126da4"
      },
      "cell_type": "code",
      "source": "submission = pd.read_csv('../input/sample_submission.csv')\nsubmission['fare_amount'] = y_prediction\nsubmission.to_csv('submission_taxi_fare.csv', index=False)\nsubmission.head(20)",
      "execution_count": null,
      "outputs": []
    }
  ],
  "metadata": {
    "kernelspec": {
      "display_name": "Python 3",
      "language": "python",
      "name": "python3"
    },
    "language_info": {
      "name": "python",
      "version": "3.6.6",
      "mimetype": "text/x-python",
      "codemirror_mode": {
        "name": "ipython",
        "version": 3
      },
      "pygments_lexer": "ipython3",
      "nbconvert_exporter": "python",
      "file_extension": ".py"
    }
  },
  "nbformat": 4,
  "nbformat_minor": 1
}